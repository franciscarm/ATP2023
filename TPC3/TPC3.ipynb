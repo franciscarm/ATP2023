{
 "cells": [
  {
   "cell_type": "code",
   "execution_count": 5,
   "metadata": {},
   "outputs": [
    {
     "name": "stdout",
     "output_type": "stream",
     "text": [
      "45\n",
      "74\n",
      "80\n",
      "95\n",
      "81\n",
      "86\n",
      "88\n",
      "93\n",
      "89\n",
      "92\n",
      "90\n",
      "O teu numero é 90 Consegui adivinhar em 11 palpites\n"
     ]
    }
   ],
   "source": [
    "import random\n",
    "\n",
    "\n",
    "y= random.randrange (0 , 100)\n",
    "print (y)\n",
    "\n",
    "min= 0\n",
    "max = 100\n",
    "\n",
    "x = input(\"Introduza uma letra\")\n",
    "\n",
    "maior = \"m\"\n",
    "menor = \"n\"\n",
    "igual = \"i\"\n",
    "\n",
    "palpites = 1\n",
    "\n",
    "while x != \"i\":\n",
    "    if x == \"m\":\n",
    "        palpites = palpites + 1\n",
    "        min =  y + 1\n",
    "        y = random.randrange (min , 100)\n",
    "        print (y)\n",
    "        x = input(\"Introduzir uma letra\")\n",
    "    elif x == \"n\":\n",
    "        palpites = palpites + 1\n",
    "        max = y\n",
    "        y = random.randrange (0 , max)\n",
    "        print (y)\n",
    "        x = input(\"Introduzir uma letra\")\n",
    "\n",
    "print (\"O teu numero é\" , y, \"Consegui adivinhar em\" , palpites , \"palpites\")\n",
    "\n",
    "\n",
    "\n",
    "\n",
    "\n"
   ]
  },
  {
   "cell_type": "code",
   "execution_count": 6,
   "metadata": {},
   "outputs": [
    {
     "name": "stdout",
     "output_type": "stream",
     "text": [
      "Vamos jogar ao advinhe o número! Boa sorte!\n",
      "o teu numero é maior\n",
      "o teu numero é maior\n",
      "o teu numero é menor\n",
      "o teu numero é menor\n",
      "o teu numero é menor\n",
      "o teu numero é maior\n",
      "Conseguiste! Descobriste em 6 tentativas\n"
     ]
    }
   ],
   "source": [
    "print (\"Vamos jogar ao advinhe o número! Boa sorte!\")\n",
    "\n",
    "import random \n",
    "\n",
    "n= random.randrange (0 , 100)\n",
    "\n",
    "palpites = 0\n",
    "meu_palpite= int(input(\"introduzir um numero\"))\n",
    "\n",
    "while meu_palpite != n:\n",
    "    palpites = palpites + 1 \n",
    "    if meu_palpite > n:\n",
    "        print (\"o teu numero é maior\")\n",
    "    elif meu_palpite < n:\n",
    "        print (\"o teu numero é menor\")\n",
    "    meu_palpite = int(input(\"tente novamente: \"))\n",
    "\n",
    "print (\"Conseguiste! Descobriste em\" , palpites, \"tentativas\")\n",
    "\n",
    "\n",
    "\n",
    "\n",
    "        \n",
    "\n",
    "        \n",
    "\n",
    "\n"
   ]
  }
 ],
 "metadata": {
  "kernelspec": {
   "display_name": "Python 3",
   "language": "python",
   "name": "python3"
  },
  "language_info": {
   "codemirror_mode": {
    "name": "ipython",
    "version": 3
   },
   "file_extension": ".py",
   "mimetype": "text/x-python",
   "name": "python",
   "nbconvert_exporter": "python",
   "pygments_lexer": "ipython3",
   "version": "3.11.5"
  },
  "orig_nbformat": 4
 },
 "nbformat": 4,
 "nbformat_minor": 2
}
