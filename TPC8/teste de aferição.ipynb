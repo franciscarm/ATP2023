{
 "cells": [
  {
   "cell_type": "markdown",
   "metadata": {},
   "source": [
    "## TPC8: Teste de aferição\n",
    "\n",
    "Resolva os problemas apresentados a seguir."
   ]
  },
  {
   "cell_type": "markdown",
   "metadata": {},
   "source": [
    "### tpc-1. Especifique as seguintes listas em compreensão:"
   ]
  },
  {
   "cell_type": "markdown",
   "metadata": {},
   "source": [
    "#### a) Lista formada pelos elementos que não são comuns às duas listas:"
   ]
  },
  {
   "cell_type": "code",
   "execution_count": 1,
   "metadata": {},
   "outputs": [
    {
     "name": "stdout",
     "output_type": "stream",
     "text": [
      "[1, 2, 3, 6, 7, 8]\n"
     ]
    }
   ],
   "source": [
    "lista1 = [1, 2, 3, 4, 5]\n",
    "lista2 = [4, 5, 6, 7, 8] \n",
    "\n",
    "comuns = [x for x in lista1 if x not in lista2] + [x for x in lista2 if x not in lista1]\n",
    "print (comuns)\n",
    "\n",
    "# Resultado esperado: [1,2,3,5,7,8]"
   ]
  },
  {
   "cell_type": "markdown",
   "metadata": {},
   "source": [
    "#### b) Lista formada pelas palavras do texto compostas por mais de 3 letras:"
   ]
  },
  {
   "cell_type": "code",
   "execution_count": 2,
   "metadata": {},
   "outputs": [
    {
     "name": "stdout",
     "output_type": "stream",
     "text": [
      "['Vivia', 'poucos', 'anos', 'algures', 'concelho', 'Ribatejo', 'pequeno', 'lavrador', 'negociante', 'gado', 'chamado', 'Manuel', 'Peres', 'Vigário']\n"
     ]
    }
   ],
   "source": [
    "texto = \"\"\"Vivia há já não poucos anos algures num concelho do Ribatejo \n",
    "    um pequeno lavrador e negociante de gado chamado Manuel Peres Vigário\"\"\"\n",
    "\n",
    "texto1 = texto.split ()\n",
    "lista = [x for x in texto1 if len(x)>3]\n",
    "print (lista)\n",
    "\n",
    "# Resultado esperado: ['Vivia', 'poucos', 'anos', 'algures', 'concelho', ...]"
   ]
  },
  {
   "cell_type": "markdown",
   "metadata": {},
   "source": [
    "#### c) Lista formada por pares do tipo (índice, valor) com os valores da lista dada:"
   ]
  },
  {
   "cell_type": "code",
   "execution_count": 4,
   "metadata": {},
   "outputs": [
    {
     "name": "stdout",
     "output_type": "stream",
     "text": [
      "[(1, 'anaconda'), (2, 'burro'), (3, 'cavalo'), (4, 'macaco')]\n"
     ]
    }
   ],
   "source": [
    "lista = ['anaconda', 'burro', 'cavalo', 'macaco']\n",
    "\n",
    "listaRes = [(i+1, lista[i]) for i in range(len(lista))]\n",
    "print (listaRes)\n",
    "\n",
    "# Resultado esperado: [(1,'anaconda'), (2,'burro'), (3,'cavalo'), (4,'macaco')]"
   ]
  },
  {
   "cell_type": "markdown",
   "metadata": {},
   "source": [
    "### tpc-2. À semelhança do que foi feito nas aulas, realize as seguintes tarefas:"
   ]
  },
  {
   "cell_type": "markdown",
   "metadata": {},
   "source": [
    "#### a) Especifique uma função que dada uma string e uma substring não vazia, calcula  o número de vezes em que a substring aparece na string, sem que haja sobreposição de substrings:"
   ]
  },
  {
   "cell_type": "code",
   "execution_count": 6,
   "metadata": {},
   "outputs": [
    {
     "name": "stdout",
     "output_type": "stream",
     "text": [
      "2\n",
      "1\n",
      "0\n"
     ]
    }
   ],
   "source": [
    "def strCount(s, subs):\n",
    "    quantidade = 0\n",
    "    for i in range(len(s)-len(subs)+1):\n",
    "        if s[i : i + len(subs)] == subs:\n",
    "            quantidade = quantidade + 1\n",
    "    return quantidade\n",
    "\n",
    "print (strCount(\"catcowcat\", \"cat\")) # --> 2\n",
    "print (strCount(\"catcowcat\", \"cow\")) # --> 1\n",
    "print (strCount(\"catcowcat\", \"dog\")) # --> 0"
   ]
  },
  {
   "cell_type": "markdown",
   "metadata": {},
   "source": [
    "#### b) Especifique uma função que recebe uma lista de números inteiros positivos e devolve o menor produto que for possível calcular multiplicando os 3 menores inteiros da lista:"
   ]
  },
  {
   "cell_type": "code",
   "execution_count": 7,
   "metadata": {},
   "outputs": [
    {
     "name": "stdout",
     "output_type": "stream",
     "text": [
      "168\n"
     ]
    }
   ],
   "source": [
    "def produtoM3(lista):\n",
    "    res = 0\n",
    "    listaord = sorted (lista)\n",
    "    res = listaord [0] * listaord [1] * listaord [2]\n",
    "    return  res\n",
    "\n",
    "print(produtoM3([12,3,7,10,12,8,9]))\n",
    "\n",
    "# Resultado esperado: 168 = 3 * 7 * 8"
   ]
  },
  {
   "cell_type": "markdown",
   "metadata": {},
   "source": [
    "#### c) Especifique uma função que dado um número inteiro positivo, repetidamente adiciona os seus dígitos até obter apenas um dígito que é retornado como resultado:"
   ]
  },
  {
   "cell_type": "code",
   "execution_count": 9,
   "metadata": {},
   "outputs": [
    {
     "name": "stdout",
     "output_type": "stream",
     "text": [
      "2\n",
      "3\n"
     ]
    }
   ],
   "source": [
    "# Input: 38\n",
    "# Output: 2\n",
    "# Explicação: 3 + 8 = 11, 1 + 1 = 2.\n",
    "\n",
    "# Input: 777\n",
    "# Output: 3\n",
    "# Explicação: 7 + 7 + 7 = 21, 2 + 1 = 3.\n",
    "\n",
    "def reduxInt(n):\n",
    "    res = n \n",
    "    while len(str(res)) != 1:\n",
    "        soma = [int(numero) for numero in str(res)]\n",
    "        res = soma [0]\n",
    "        for i in range (1, len(soma)):\n",
    "            res = res + soma[i]\n",
    "    return res\n",
    "\n",
    "print (reduxInt(38))\n",
    "print (reduxInt(777))"
   ]
  },
  {
   "cell_type": "markdown",
   "metadata": {},
   "source": [
    "#### d) Especifique uma função que recebe duas strings, `string1` e `string2`, e devolve o índice da primeira ocorrência de `string2` em `string1`, caso não ocorra nenhuma vez a função deverá retornar `-1`:"
   ]
  },
  {
   "cell_type": "code",
   "execution_count": 11,
   "metadata": {},
   "outputs": [
    {
     "name": "stdout",
     "output_type": "stream",
     "text": [
      "-1\n",
      "13\n"
     ]
    }
   ],
   "source": [
    "# Invocação: indexOf(\"Hoje está um belo dia de sol!\", \"belo\")\n",
    "# Resultado: 13\n",
    "\n",
    "# Invocação: indexOf(\"Hoje está um belo dia de sol!\", \"chuva\")\n",
    "# Resultado: -1\n",
    "\n",
    "def myIndexOf(s1, s2):\n",
    "    for i in range(len(s1)-len(s2) + 1):\n",
    "        if s1[i : i + len(s2)] == s2:\n",
    "            return i\n",
    "    return -1\n",
    "\n",
    "print (myIndexOf(\"Hoje está um belo dia de sol!\", \"chuva\"))\n",
    "print (myIndexOf(\"Hoje está um belo dia de sol!\", \"belo\"))"
   ]
  },
  {
   "cell_type": "markdown",
   "metadata": {},
   "source": [
    "### tpc-3. A Rede Social\n",
    "\n",
    "Considere que a informação sobre uma rede social está armazenada numa lista de dicionários.\n",
    "\n",
    "Cada dicionário, correspondente a um _post_ e tem chaves `id`, `conteudo`, `autor`, `dataCriacao` e `comentarios`.\n",
    "Por sua vez, `comentarios` é uma lista de dicionários com chaves `comentario` e `autor`.\n",
    "\n",
    "Considere o seguinte exemplo:\n",
    "\n",
    "``` \n",
    "    MyFaceBook = [{\n",
    "        'id': 'p1', \n",
    "        'conteudo': 'A tarefa de avaliação é talvez a mais ingrata das tarefas que um professor\n",
    "    tem de realizar...', \n",
    "        'autor': 'jcr', \n",
    "        'dataCriacao': '2023-07-20', \n",
    "        'comentarios': [\n",
    "            {\n",
    "                'comentario': 'Completamente de acordo...',\n",
    "                'autor': 'prh'\n",
    "            },\n",
    "            {\n",
    "                'comentario': 'Mas há quem goste...',\n",
    "                'autor': 'jj'\n",
    "            }\n",
    "        ]},\n",
    "        {\n",
    "            'id': 'p2',\n",
    "            ...\n",
    "        },\n",
    "        ...\n",
    "        ]\n",
    "```"
   ]
  },
  {
   "cell_type": "markdown",
   "metadata": {},
   "source": [
    "Defina as seguintes funções de manipulação e consulta da rede social:"
   ]
  },
  {
   "cell_type": "code",
   "execution_count": 16,
   "metadata": {},
   "outputs": [],
   "source": [
    "MyFaceBook = [{\n",
    "    'id': 'p1', \n",
    "    'conteudo': 'A tarefa de avaliação é talvez a mais ingrata das tarefas que um professor tem de realizar...', \n",
    "    'autor': 'jcr', \n",
    "    'dataCriacao': '2023-07-20', \n",
    "    'comentarios': [\n",
    "        {\n",
    "            'comentario': 'Completamente de acordo...',\n",
    "            'autor': 'prh'\n",
    "        },\n",
    "        {\n",
    "            'comentario': 'Mas há quem goste...',\n",
    "            'autor': 'jj'\n",
    "        }\n",
    "    ]},\n",
    "    {\n",
    "        'id': 'p2',\n",
    "    },\n",
    "]"
   ]
  },
  {
   "cell_type": "markdown",
   "metadata": {},
   "source": [
    "#### a) `quantosPost`, que indica quantos posts estão registados:"
   ]
  },
  {
   "cell_type": "code",
   "execution_count": 17,
   "metadata": {},
   "outputs": [
    {
     "name": "stdout",
     "output_type": "stream",
     "text": [
      "2\n"
     ]
    }
   ],
   "source": [
    "def quantosPost(redeSocial):\n",
    "    return len(redeSocial)\n",
    "\n",
    "print (quantosPost(MyFaceBook))"
   ]
  },
  {
   "cell_type": "markdown",
   "metadata": {},
   "source": [
    "#### b)  `postsAutor`, que devolve a lista de posts de um determinado autor:"
   ]
  },
  {
   "cell_type": "code",
   "execution_count": 18,
   "metadata": {},
   "outputs": [
    {
     "data": {
      "text/plain": [
       "['A tarefa de avaliação é talvez a mais ingrata das tarefas que um professor tem de realizar...']"
      ]
     },
     "execution_count": 18,
     "metadata": {},
     "output_type": "execute_result"
    }
   ],
   "source": [
    "def postsAutor(redeSocial, autor):\n",
    "    listaAutor = []\n",
    "    for post in redeSocial:\n",
    "        if \"autor\" in post and post[\"autor\"] == autor:\n",
    "            if \"conteudo\" in post:\n",
    "                listaAutor.append (post[\"conteudo\"])\n",
    "            if \"comentarios\" in post:\n",
    "                for comentario in post[\"comentarios\"]:\n",
    "                    if \"autor\" in comentario and comentario[\"autor\"] == autor:\n",
    "                        listaAutor.append(comentario[\"comentario\"])\n",
    "    return listaAutor\n",
    "\n",
    "postsAutor(MyFaceBook, \"jcr\")"
   ]
  },
  {
   "cell_type": "markdown",
   "metadata": {},
   "source": [
    "#### c) `autores`, que devolve a lista de autores de posts ordenada alfabeticamente:"
   ]
  },
  {
   "cell_type": "code",
   "execution_count": 19,
   "metadata": {},
   "outputs": [
    {
     "name": "stdout",
     "output_type": "stream",
     "text": [
      "['jcr', 'jj', 'prh']\n"
     ]
    }
   ],
   "source": [
    "def autores(redeSocial):\n",
    "    listaAut = []\n",
    "    for post in redeSocial:\n",
    "        if \"autor\" in post:\n",
    "            listaAut.append(post[\"autor\"])\n",
    "        if \"comentarios\" in post:\n",
    "            for comentario in post[\"comentarios\"]:\n",
    "                if \"autor\" in comentario:\n",
    "                    listaAut.append(comentario[\"autor\"])\n",
    "\n",
    "    return  sorted(listaAut)\n",
    "\n",
    "print (autores(MyFaceBook))"
   ]
  },
  {
   "cell_type": "markdown",
   "metadata": {},
   "source": [
    "#### d) `insPost`, que acrescenta um novo post à rede social a partir dos parâmetros recebidos e devolve a nova rede social. \n",
    "    \n",
    "O campo `id` devrá ser calculado a partir dos já existentes, por exemplo, se a rede tiver posts com id `p1`, `p2` e `p3`, o novo `id` deverá ser `p4`."
   ]
  },
  {
   "cell_type": "code",
   "execution_count": 22,
   "metadata": {},
   "outputs": [
    {
     "name": "stdout",
     "output_type": "stream",
     "text": [
      "None\n",
      "None\n",
      "[{'id': 'p1', 'conteudo': 'A tarefa de avaliação é talvez a mais ingrata das tarefas que um professor tem de realizar...', 'autor': 'jcr', 'dataCriacao': '2023-07-20', 'comentarios': [{'comentario': 'Completamente de acordo...', 'autor': 'prh'}, {'comentario': 'Mas há quem goste...', 'autor': 'jj'}, {'comentario': 'Hello!', 'autor': 'aluno1'}]}, {'id': 'p2'}, {'id': 'p3', 'conteudo': 'Hello World!', 'autor': 'aluno', 'dataCriacao': '31-10-2023', 'comentarios': []}]\n"
     ]
    }
   ],
   "source": [
    "def insPost(redeSocial, conteudo, autor, dataCriacao):\n",
    "    id = \"p\" + str(len(redeSocial) + 1)\n",
    "    post = {\"id\": id, \"conteudo\": conteudo, \"autor\": autor, \"dataCriacao\": dataCriacao, \"comentarios\": []}\n",
    "    redeSocial.append(post)\n",
    "\n",
    "    return\n",
    "\n",
    "def comentariosPost(redeSocial, comentario, autor):\n",
    "    comentarios = {}\n",
    "    i = (int(input(\"Indique o número presente no id do post que pretende comentar.\")) - 1)\n",
    "    comentario = {'comentario': comentario, 'autor': autor}\n",
    "    redeSocial[i]['comentarios'].append(comentario)\n",
    "\n",
    "    return\n",
    "\n",
    "print (insPost(MyFaceBook, 'Hello World!', 'aluno', '31-10-2023'))\n",
    "print (comentariosPost(MyFaceBook, 'Hello!', 'aluno1'))\n",
    "print(MyFaceBook)\n",
    "    "
   ]
  },
  {
   "cell_type": "markdown",
   "metadata": {},
   "source": [
    "#### e)  `remPost`, que remove um post da rede, correspondente ao `id` recebido."
   ]
  },
  {
   "cell_type": "code",
   "execution_count": 23,
   "metadata": {},
   "outputs": [
    {
     "name": "stdout",
     "output_type": "stream",
     "text": [
      "[{'id': 'p1', 'conteudo': 'A tarefa de avaliação é talvez a mais ingrata das tarefas que um professor tem de realizar...', 'autor': 'jcr', 'dataCriacao': '2023-07-20', 'comentarios': [{'comentario': 'Completamente de acordo...', 'autor': 'prh'}, {'comentario': 'Mas há quem goste...', 'autor': 'jj'}, {'comentario': 'Hello!', 'autor': 'aluno1'}]}, {'id': 'p2'}]\n"
     ]
    }
   ],
   "source": [
    "def remPost(redeSocial, id):\n",
    "    for post in redeSocial:\n",
    "        if \"id\" in post and post[\"id\"] == id:\n",
    "            redeSocial.remove (post)\n",
    "    return \n",
    "\n",
    "remPost(MyFaceBook, 'p3')\n",
    "print(MyFaceBook)"
   ]
  },
  {
   "cell_type": "markdown",
   "metadata": {},
   "source": [
    "#### f) `postsPorAutor`, que devolve uma distribuição de posts por autor (à semelhança do que foi feito nas aulas)."
   ]
  },
  {
   "cell_type": "code",
   "execution_count": 29,
   "metadata": {},
   "outputs": [
    {
     "name": "stdout",
     "output_type": "stream",
     "text": [
      "{'jcr': 1}\n"
     ]
    }
   ],
   "source": [
    "def postsPorAutor(redeSocial , autor):\n",
    "    res = {}\n",
    "    for post in redeSocial:\n",
    "        if \"autor\" in post and post[\"autor\"] == autor:\n",
    "            if post[\"autor\"] in res:\n",
    "                res[post[\"autor\"]] = res[post[\"autor\"]] + 1\n",
    "            else:\n",
    "                res[post[\"autor\"]] = 1\n",
    "        if \"comentarios\" in post:\n",
    "            for comentario in post[\"comentarios\"]:\n",
    "                if \"autor\" in comentario and comentario[\"autor\"] == autor:\n",
    "                    if comentario[\"autor\"] in res:\n",
    "                        res[comentario[\"autor\"]] = res[comentario[\"autor\"]] + 1\n",
    "                    else:\n",
    "                        res[comentario[\"autor\"]] = 1 \n",
    "    return res\n",
    "\n",
    "print (postsPorAutor(MyFaceBook, 'jcr'))"
   ]
  },
  {
   "cell_type": "markdown",
   "metadata": {},
   "source": [
    "#### g) `comentadoPor`, que recebe um autor e devolve a lista de posts comentados por esse autor."
   ]
  },
  {
   "cell_type": "code",
   "execution_count": 30,
   "metadata": {},
   "outputs": [
    {
     "name": "stdout",
     "output_type": "stream",
     "text": [
      "['Completamente de acordo...']\n"
     ]
    }
   ],
   "source": [
    "def comentadoPor(redeSocial, autor):\n",
    "    listaComen = []\n",
    "    for post in redeSocial:\n",
    "        if \"comentarios\" in post:\n",
    "            for comentario in post[\"comentarios\"]:\n",
    "                if \"autor\" in comentario and comentario[\"autor\"] == autor:\n",
    "                    listaComen.append(comentario[\"comentario\"])\n",
    "\n",
    "    return listaComen\n",
    "\n",
    "print (comentadoPor(MyFaceBook, \"prh\"))"
   ]
  }
 ],
 "metadata": {
  "kernelspec": {
   "display_name": "Python 3",
   "language": "python",
   "name": "python3"
  },
  "language_info": {
   "codemirror_mode": {
    "name": "ipython",
    "version": 3
   },
   "file_extension": ".py",
   "mimetype": "text/x-python",
   "name": "python",
   "nbconvert_exporter": "python",
   "pygments_lexer": "ipython3",
   "version": "3.11.5"
  }
 },
 "nbformat": 4,
 "nbformat_minor": 2
}
